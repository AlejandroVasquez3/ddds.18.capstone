{
  "nbformat": 4,
  "nbformat_minor": 0,
  "metadata": {
    "colab": {
      "provenance": [],
      "authorship_tag": "ABX9TyPSB0SaVbBeDoj1JzeHnSZI",
      "include_colab_link": true
    },
    "kernelspec": {
      "name": "python3",
      "display_name": "Python 3"
    },
    "language_info": {
      "name": "python"
    }
  },
  "cells": [
    {
      "cell_type": "markdown",
      "metadata": {
        "id": "view-in-github",
        "colab_type": "text"
      },
      "source": [
        "<a href=\"https://colab.research.google.com/github/DDDS18-GTFS/ddds.18.capstone/blob/dev.Alejandro/API_Connection_20250731.ipynb\" target=\"_parent\"><img src=\"https://colab.research.google.com/assets/colab-badge.svg\" alt=\"Open In Colab\"/></a>"
      ]
    },
    {
      "cell_type": "markdown",
      "source": [
        "# API Connection to ABQ Transit Database\n",
        "- Database: abq-transit-test\n"
      ],
      "metadata": {
        "id": "u5MG-VhVIjHm"
      }
    },
    {
      "cell_type": "markdown",
      "source": [
        "## Add \"YOUR_API_KEY\" to your secrets\n",
        "- Secret name = YOUR_API_KEY\n",
        "  - For API Key email: Alejandrovasquez.ddds@gmail.com"
      ],
      "metadata": {
        "id": "59fnRTNpHt_S"
      }
    },
    {
      "cell_type": "code",
      "source": [
        "from google.colab import userdata\n"
      ],
      "metadata": {
        "id": "iDZOxEdBGcrd"
      },
      "execution_count": null,
      "outputs": []
    },
    {
      "cell_type": "code",
      "execution_count": null,
      "metadata": {
        "id": "yx1LdLOfFVo0"
      },
      "outputs": [],
      "source": [
        "import requests\n",
        "import pandas as pd\n",
        "import json\n",
        "from datetime import datetime\n",
        "import plotly.express as px\n",
        "import folium\n",
        "\n",
        "# Your API endpoint\n",
        "BASE_URL = \"https://abq-transit-collector-test-548887462821.us-south1.run.app\"\n",
        "\n",
        "# Retriving Secret from google collab\n",
        "API_KEY = userdata.get('YOUR_API_KEY')\n",
        "\n",
        "# Create headers for authenticated requests\n",
        "headers = {\n",
        "    \"Authorization\": f\"Bearer {API_KEY}\"\n",
        "}"
      ]
    },
    {
      "cell_type": "markdown",
      "source": [
        "## Working API Endpoints:\n",
        "\n",
        "- Service health check\n",
        "  - BASE_URL/health\n",
        "- Database statistics\n",
        "  - BASE_URL/api/summary\n",
        "- Recent vehicle data\n",
        "  - BASE_URL/api/recent?hours=N\n",
        "- List of all routes\n",
        "  - BASE_URL/api/routes\n",
        "- Specific route data\n",
        "  - BASE_URL/api/route?name=X&hours=N\n",
        "- Active vehicles\n",
        "  - BASE_URL/api/vehicles\n",
        "- Current vehicle positions for mapping\n",
        "  - BASE_URL/api/locations"
      ],
      "metadata": {
        "id": "wZwaJnL3bGqS"
      }
    },
    {
      "cell_type": "code",
      "source": [
        "# Test health endpoint (no auth required)\n",
        "response = requests.get(f\"{BASE_URL}/health\")\n",
        "print(\"Health Check:\", response.json())\n",
        "\n",
        "# Test authenticated endpoint\n",
        "response = requests.get(f\"{BASE_URL}/api/summary\", headers=headers)\n",
        "if response.status_code == 200:\n",
        "    print(\"✅ API Authentication successful!\")\n",
        "    print(\"Summary:\", response.json())\n",
        "else:\n",
        "    print(\"❌ Authentication failed:\", response.status_code, response.text)"
      ],
      "metadata": {
        "id": "GYqbYavXHdJf"
      },
      "execution_count": null,
      "outputs": []
    },
    {
      "cell_type": "code",
      "source": [
        "def get_summary():\n",
        "    \"\"\"Get database summary statistics\"\"\"\n",
        "    response = requests.get(f\"{BASE_URL}/api/summary\", headers=headers)\n",
        "    return response.json()\n",
        "\n",
        "summary = get_summary()\n",
        "print(f\"Total Records: {summary['total_records']:,}\")\n",
        "print(f\"Unique Vehicles: {summary['unique_vehicles']}\")\n",
        "print(f\"Unique Routes: {summary['unique_routes']}\")\n",
        "print(f\"Collection Days: {summary['collection_days']}\")\n",
        "print(f\"Latest Record: {summary['latest_record']}\")"
      ],
      "metadata": {
        "id": "QqgMXgftJDY_"
      },
      "execution_count": null,
      "outputs": []
    },
    {
      "cell_type": "code",
      "source": [
        "summary"
      ],
      "metadata": {
        "id": "qC1t_8kcJWBW"
      },
      "execution_count": null,
      "outputs": []
    },
    {
      "cell_type": "code",
      "source": [
        "def get_recent_data(hours=1):\n",
        "    \"\"\"Get recent vehicle data\"\"\"\n",
        "    response = requests.get(\n",
        "        f\"{BASE_URL}/api/recent\",\n",
        "        params={\"hours\": hours},\n",
        "        headers=headers\n",
        "    )\n",
        "    return response.json()\n",
        "\n",
        "# Get last hour of data\n",
        "recent = get_recent_data(hours=1)\n",
        "print(f\"Records in last hour: {recent['record_count']}\")\n",
        "\n",
        "# Convert to DataFrame\n",
        "df_recent = pd.DataFrame(recent['data'])\n",
        "df_recent['timestamp_collected'] = pd.to_datetime(df_recent['timestamp_collected'])\n",
        "df_recent.head()"
      ],
      "metadata": {
        "id": "JMQ_EhMmJrYJ"
      },
      "execution_count": null,
      "outputs": []
    },
    {
      "cell_type": "code",
      "source": [
        "def get_routes():\n",
        "    \"\"\"Get list of all routes\"\"\"\n",
        "    response = requests.get(f\"{BASE_URL}/api/routes\", headers=headers)\n",
        "    return response.json()\n",
        "\n",
        "def get_route_data(route_name, hours=1):\n",
        "    \"\"\"Get data for specific route\"\"\"\n",
        "    response = requests.get(\n",
        "        f\"{BASE_URL}/api/route\",\n",
        "        params={\"name\": route_name, \"hours\": hours},\n",
        "        headers=headers\n",
        "    )\n",
        "    return response.json()\n",
        "\n",
        "# Get all routes\n",
        "routes = get_routes()\n",
        "df_routes = pd.DataFrame(routes['routes'])\n",
        "print(f\"Total routes: {len(df_routes)}\")\n",
        "df_routes.head(10)"
      ],
      "metadata": {
        "id": "1dk2jv7fKPxs"
      },
      "execution_count": null,
      "outputs": []
    },
    {
      "cell_type": "code",
      "source": [
        "def get_active_vehicles():\n",
        "    \"\"\"Get currently active vehicles\"\"\"\n",
        "    response = requests.get(f\"{BASE_URL}/api/vehicles\", headers=headers)\n",
        "    return response.json()\n",
        "\n",
        "vehicles = get_active_vehicles()\n",
        "print(f\"Active vehicles: {vehicles['active_vehicles']}\")\n",
        "df_vehicles = pd.DataFrame(vehicles['vehicles'])\n",
        "df_vehicles.head()"
      ],
      "metadata": {
        "id": "xwcK4G90LR5D"
      },
      "execution_count": null,
      "outputs": []
    }
  ]
}